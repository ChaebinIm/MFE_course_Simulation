{
 "cells": [
  {
   "cell_type": "code",
   "execution_count": 2,
   "metadata": {},
   "outputs": [
    {
     "name": "stdout",
     "output_type": "stream",
     "text": [
      "value = 92.98, err = 0.27\n",
      "prob[1] = 54.99%\n",
      "prob[2] = 12.17%\n",
      "prob[3] =  6.41%\n",
      "prob[4] =  4.06%\n",
      "prob[5] =  0.43%\n",
      "prob[6] = 21.94%\n",
      "Total sum of prob = 100%\n",
      "Total computing time = 3.191183 seconds\n"
     ]
    }
   ],
   "source": [
    "import numpy as np\n",
    "def ELS(r,q1,q2,sigma1,sigma2,rho,M,n):\n",
    "\n",
    "    return value,err,prob\n",
    "from datetime import datetime\n",
    "r=0.03\n",
    "q1=0.0\n",
    "q2=0.0\n",
    "sigma1=0.3\n",
    "sigma2=0.4\n",
    "rho=0.2\n",
    "M=10000\n",
    "n=8\n",
    "t1=datetime.now()\n",
    "value,err,prob=ELS(r,q1,q2,sigma1,sigma2,rho,M,n)\n",
    "t2=datetime.now()\n",
    "print('value = {:.2f}, err = {:.2f}'.format(value,err))\n",
    "for i in range(6):\n",
    "    print('prob[{:d}] = {:{width}.2%}'.format(i+1,prob[i],width=6))\n",
    "print('Total sum of prob = {:.0%}'.format(sum(prob)))\n",
    "print('Total computing time = {:f} seconds'.format((t2-t1).total_seconds()))"
   ]
  }
 ],
 "metadata": {
  "kernelspec": {
   "display_name": "Python 3",
   "language": "python",
   "name": "python3"
  },
  "language_info": {
   "codemirror_mode": {
    "name": "ipython",
    "version": 3
   },
   "file_extension": ".py",
   "mimetype": "text/x-python",
   "name": "python",
   "nbconvert_exporter": "python",
   "pygments_lexer": "ipython3",
   "version": "3.7.3"
  }
 },
 "nbformat": 4,
 "nbformat_minor": 2
}
