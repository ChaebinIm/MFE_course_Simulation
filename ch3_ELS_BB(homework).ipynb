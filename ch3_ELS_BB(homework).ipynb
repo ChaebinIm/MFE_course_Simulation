{
 "cells": [
  {
   "cell_type": "code",
   "execution_count": 12,
   "metadata": {},
   "outputs": [
    {
     "name": "stdout",
     "output_type": "stream",
     "text": [
      "i=4, left=0, right=8\n",
      "i=2, left=0, right=4\n",
      "i=6, left=4, right=8\n",
      "i=1, left=0, right=2\n",
      "i=3, left=2, right=4\n",
      "i=5, left=4, right=6\n",
      "i=7, left=6, right=8\n"
     ]
    },
    {
     "data": {
      "text/plain": [
       "array([0.        , 1.40836425, 2.5487504 , 2.82899873, 4.50153014,\n",
       "       5.32369641, 5.52606965, 7.07721973, 8.        ])"
      ]
     },
     "execution_count": 12,
     "metadata": {},
     "output_type": "execute_result"
    }
   ],
   "source": [
    "import numpy as np\n",
    "def BB(w0,wt,t,m):\n",
    "\n",
    "    return W\n",
    "W=BB(0,8,1,3)\n",
    "W"
   ]
  },
  {
   "cell_type": "code",
   "execution_count": 3,
   "metadata": {},
   "outputs": [
    {
     "name": "stdout",
     "output_type": "stream",
     "text": [
      "value = 93.28, err = 0.27\n",
      "prob[1] = 55.55%\n",
      "prob[2] = 12.69%\n",
      "prob[3] =  6.00%\n",
      "prob[4] =  4.05%\n",
      "prob[5] =  0.33%\n",
      "prob[6] =  1.16%\n",
      "prob[7] = 20.22%\n",
      "Total sum of prob = 100%\n",
      "Total computing time = 0.569032 seconds\n"
     ]
    }
   ],
   "source": [
    "import numpy as np\n",
    "def ELS_BB(r,q1,q2,sigma1,sigma2,rho,M,m):\n",
    "\n",
    "    return value,err,prob\n",
    "from datetime import datetime\n",
    "r=0.03\n",
    "q1=0.0\n",
    "q2=0.0\n",
    "sigma1=0.3\n",
    "sigma2=0.4\n",
    "rho=0.2\n",
    "M=10000\n",
    "m=3\n",
    "t1=datetime.now()\n",
    "value,err,prob=ELS_BB(r,q1,q2,sigma1,sigma2,rho,M,m)\n",
    "t2=datetime.now()\n",
    "print('value = {:.2f}, err = {:.2f}'.format(value,err))\n",
    "for i in range(7):\n",
    "    print('prob[{:d}] = {:{width}.2%}'.format(i+1,prob[i],width=6))\n",
    "print('Total sum of prob = {:.0%}'.format(sum(prob)))\n",
    "print('Total computing time = {:f} seconds'.format((t2-t1).total_seconds()))"
   ]
  },
  {
   "cell_type": "code",
   "execution_count": 11,
   "metadata": {},
   "outputs": [
    {
     "name": "stdout",
     "output_type": "stream",
     "text": [
      "       prob[1] prob[2] prob[3] prob[4] prob[5] prob[6] prob[7]   computing time\n",
      "n=  1   54.60%  12.69%   6.56%   4.32%   1.49%   0.00%  20.34%   0.504029 seconds\n",
      "n=  2   54.71%  12.48%   6.62%   4.20%   0.85%   0.77%  20.37%   0.527030 seconds\n",
      "n=  4   55.30%  12.67%   6.53%   4.37%   0.43%   0.85%  19.85%   0.513029 seconds\n",
      "n=  8   54.87%  11.64%   6.56%   4.08%   0.44%   1.18%  21.23%   0.570033 seconds\n",
      "n= 16   54.83%  12.52%   6.56%   4.14%   0.31%   1.27%  20.37%   0.621035 seconds\n",
      "n= 32   55.15%  12.13%   6.60%   4.25%   0.18%   1.31%  20.38%   0.758043 seconds\n",
      "n= 64   54.80%  12.62%   6.47%   4.26%   0.23%   1.50%  20.12%   1.099063 seconds\n"
     ]
    }
   ],
   "source": [
    "import numpy as np\n",
    "from datetime import datetime\n",
    "r=0.03\n",
    "q1=0.0\n",
    "q2=0.0\n",
    "sigma1=0.3\n",
    "sigma2=0.4\n",
    "rho=0.2\n",
    "M=10000\n",
    "m=7\n",
    "p=np.zeros(m)\n",
    "print('      ',end=' ')\n",
    "for i in range(7):\n",
    "    print('prob[{:d}]'.format(i+1),end=' ')\n",
    "print('  computing time')\n",
    "for i in range(m):\n",
    "    t1=datetime.now()\n",
    "    value,err,prob=ELS_BB(r,q1,q2,sigma1,sigma2,rho,M,i)\n",
    "    t2=datetime.now()\n",
    "    print('n={:3d}'.format(2**i),end='   ')\n",
    "    for j in range(len(prob)):\n",
    "        print('{:{width}.2%} '.format(prob[j],width=6),end=' ')\n",
    "    print(' {:f} seconds'.format((t2-t1).total_seconds()))"
   ]
  }
 ],
 "metadata": {
  "kernelspec": {
   "display_name": "Python 3",
   "language": "python",
   "name": "python3"
  },
  "language_info": {
   "codemirror_mode": {
    "name": "ipython",
    "version": 3
   },
   "file_extension": ".py",
   "mimetype": "text/x-python",
   "name": "python",
   "nbconvert_exporter": "python",
   "pygments_lexer": "ipython3",
   "version": "3.7.3"
  }
 },
 "nbformat": 4,
 "nbformat_minor": 2
}
